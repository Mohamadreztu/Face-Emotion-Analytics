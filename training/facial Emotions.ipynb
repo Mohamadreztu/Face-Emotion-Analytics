{
 "cells": [
  {
   "cell_type": "markdown",
   "metadata": {},
   "source": [
    "# <u>Emotion detection from facial expressions\n",
    "The aim of the problem is to find the emotion of a person by looking at the facial expression of that person. <br>The dataset used for this problem is from the Kaggle Challenge [Challenges in Representation Learning: Facial Expression Recognition Challenge](https://www.kaggle.com/c/challenges-in-representation-learning-facial-expression-recognition-challenge/data)\n",
    "\n",
    "The task is to categorize each face based on the emotion shown in the facial expression in to one of seven categories:<br> \n",
    "- 0: Angry \n",
    "- 1:Disgust\n",
    "- 2: Fear\n",
    "- 3: Happy\n",
    "- 4: Sad\n",
    "- 5: Surprise\n",
    "- 6: Neutral"
   ]
  },
  {
   "cell_type": "code",
   "execution_count": 1,
   "metadata": {
    "colab": {
     "autoexec": {
      "startup": false,
      "wait_interval": 0
     },
     "base_uri": "https://localhost:8080/",
     "height": 36
    },
    "colab_type": "code",
    "executionInfo": {
     "elapsed": 8590,
     "status": "ok",
     "timestamp": 1523758086120,
     "user": {
      "displayName": "Susanta Biswas",
      "photoUrl": "//lh5.googleusercontent.com/-j4zod5jytCU/AAAAAAAAAAI/AAAAAAAAAMw/oM-QES-nuuY/s50-c-k-no/photo.jpg",
      "userId": "109162984466767800710"
     },
     "user_tz": -330
    },
    "id": "bnrMk9GoIMLI",
    "outputId": "892f6b38-c0ab-46cf-9144-b4fa70929658"
   },
   "outputs": [
    {
     "ename": "ModuleNotFoundError",
     "evalue": "No module named 'matplotlib'",
     "output_type": "error",
     "traceback": [
      "\u001b[1;31m---------------------------------------------------------------------------\u001b[0m",
      "\u001b[1;31mModuleNotFoundError\u001b[0m                       Traceback (most recent call last)",
      "Cell \u001b[1;32mIn[1], line 5\u001b[0m\n\u001b[0;32m      3\u001b[0m \u001b[38;5;28;01mimport\u001b[39;00m \u001b[38;5;21;01mnumpy\u001b[39;00m \u001b[38;5;28;01mas\u001b[39;00m \u001b[38;5;21;01mnp\u001b[39;00m\n\u001b[0;32m      4\u001b[0m \u001b[38;5;28;01mfrom\u001b[39;00m \u001b[38;5;21;01mkeras\u001b[39;00m\u001b[38;5;21;01m.\u001b[39;00m\u001b[38;5;21;01mmodels\u001b[39;00m \u001b[38;5;28;01mimport\u001b[39;00m load_model\n\u001b[1;32m----> 5\u001b[0m \u001b[38;5;28;01mimport\u001b[39;00m \u001b[38;5;21;01mmatplotlib\u001b[39;00m\u001b[38;5;21;01m.\u001b[39;00m\u001b[38;5;21;01mpyplot\u001b[39;00m \u001b[38;5;28;01mas\u001b[39;00m \u001b[38;5;21;01mplt\u001b[39;00m\n\u001b[0;32m      6\u001b[0m \u001b[38;5;28;01mimport\u001b[39;00m \u001b[38;5;21;01mseaborn\u001b[39;00m \u001b[38;5;28;01mas\u001b[39;00m \u001b[38;5;21;01msns\u001b[39;00m\n\u001b[0;32m      7\u001b[0m \u001b[38;5;28;01mimport\u001b[39;00m \u001b[38;5;21;01mos\u001b[39;00m\u001b[38;5;21;01m.\u001b[39;00m\u001b[38;5;21;01mpath\u001b[39;00m\n",
      "\u001b[1;31mModuleNotFoundError\u001b[0m: No module named 'matplotlib'"
     ]
    }
   ],
   "source": [
    "# load the required modules\n",
    "import pandas as pd\n",
    "import numpy as np\n",
    "from keras.models import load_model\n",
    "import matplotlib.pyplot as plt\n",
    "import seaborn as sns\n",
    "import os.path\n",
    "import cv2\n",
    "\n",
    "from keras.models import Sequential\n",
    "from keras.layers import Dense, Activation, Dropout, Flatten, BatchNormalization\n",
    "from keras.layers import Conv2D\n",
    "from keras.utils import to_categorical\n",
    "from keras.callbacks import ModelCheckpoint\n",
    "from keras import callbacks\n",
    "from keras.callbacks import EarlyStopping\n",
    "from keras.layers import MaxPool2D\n",
    "%matplotlib inline"
   ]
  },
  {
   "cell_type": "markdown",
   "metadata": {
    "colab_type": "text",
    "id": "GtqlepOuIMLa"
   },
   "source": [
    "# <u>Data Preparation\n",
    "The training set consists of 28,709 examples.\n",
    "<br>The test set consists of 3,589 examples. \n",
    "<br>The cross validation set consists of another 3,589 examples.\n",
    "There is a csv file containing the emotion values for all the data."
   ]
  },
  {
   "cell_type": "code",
   "execution_count": null,
   "metadata": {
    "colab": {
     "autoexec": {
      "startup": false,
      "wait_interval": 0
     }
    },
    "colab_type": "code",
    "id": "JYwEFWYwIMLk"
   },
   "outputs": [
    {
     "ename": "",
     "evalue": "",
     "output_type": "error",
     "traceback": [
      "\u001b[1;31mRunning cells with '.conda (Python 3.11.9)' requires the ipykernel package.\n",
      "\u001b[1;31mRun the following command to install 'ipykernel' into the Python environment. \n",
      "\u001b[1;31mCommand: 'conda install -p c:\\Users\\restu\\OneDrive\\Documents\\Project\\Gade Internship\\Facial Emotion Analysis\\.conda ipykernel --update-deps --force-reinstall'"
     ]
    }
   ],
   "source": [
    "# load the images\n",
    "images_train = np.load('dataset/train_raw.npy')"
   ]
  },
  {
   "cell_type": "code",
   "execution_count": null,
   "metadata": {
    "colab": {
     "autoexec": {
      "startup": false,
      "wait_interval": 0
     }
    },
    "colab_type": "code",
    "id": "0YTCWM05IMLu"
   },
   "outputs": [
    {
     "ename": "",
     "evalue": "",
     "output_type": "error",
     "traceback": [
      "\u001b[1;31mRunning cells with '.conda (Python 3.11.9)' requires the ipykernel package.\n",
      "\u001b[1;31mRun the following command to install 'ipykernel' into the Python environment. \n",
      "\u001b[1;31mCommand: 'conda install -p c:\\Users\\restu\\OneDrive\\Documents\\Project\\Gade Internship\\Facial Emotion Analysis\\.conda ipykernel --update-deps --force-reinstall'"
     ]
    }
   ],
   "source": [
    "# load the cross validation images\n",
    "images_cv = np.load('dataset/cv_raw.npy')\n",
    "# load the test images\n",
    "images_test = np.load('dataset/test_raw.npy')"
   ]
  },
  {
   "cell_type": "code",
   "execution_count": null,
   "metadata": {
    "colab": {
     "autoexec": {
      "startup": false,
      "wait_interval": 0
     }
    },
    "colab_type": "code",
    "id": "muGY1OSfIML0"
   },
   "outputs": [
    {
     "ename": "",
     "evalue": "",
     "output_type": "error",
     "traceback": [
      "\u001b[1;31mRunning cells with '.conda (Python 3.11.9)' requires the ipykernel package.\n",
      "\u001b[1;31mRun the following command to install 'ipykernel' into the Python environment. \n",
      "\u001b[1;31mCommand: 'conda install -p c:\\Users\\restu\\OneDrive\\Documents\\Project\\Gade Internship\\Facial Emotion Analysis\\.conda ipykernel --update-deps --force-reinstall'"
     ]
    }
   ],
   "source": [
    "# load the corresponding emotion values\n",
    "emotions = pd.read_csv('dataset/emotions.csv', header=None)"
   ]
  },
  {
   "cell_type": "code",
   "execution_count": null,
   "metadata": {
    "colab": {
     "autoexec": {
      "startup": false,
      "wait_interval": 0
     },
     "base_uri": "https://localhost:8080/",
     "height": 92
    },
    "colab_type": "code",
    "executionInfo": {
     "elapsed": 808,
     "status": "ok",
     "timestamp": 1523758110168,
     "user": {
      "displayName": "Susanta Biswas",
      "photoUrl": "//lh5.googleusercontent.com/-j4zod5jytCU/AAAAAAAAAAI/AAAAAAAAAMw/oM-QES-nuuY/s50-c-k-no/photo.jpg",
      "userId": "109162984466767800710"
     },
     "user_tz": -330
    },
    "id": "r4QW3r_1IMMM",
    "outputId": "370257a2-9182-4aeb-d947-c5da30bc44d6"
   },
   "outputs": [
    {
     "ename": "",
     "evalue": "",
     "output_type": "error",
     "traceback": [
      "\u001b[1;31mRunning cells with '.conda (Python 3.11.9)' requires the ipykernel package.\n",
      "\u001b[1;31mRun the following command to install 'ipykernel' into the Python environment. \n",
      "\u001b[1;31mCommand: 'conda install -p c:\\Users\\restu\\OneDrive\\Documents\\Project\\Gade Internship\\Facial Emotion Analysis\\.conda ipykernel --update-deps --force-reinstall'"
     ]
    }
   ],
   "source": [
    "print(len(images_train))\n",
    "print(len(images_cv))\n",
    "print(len(images_test))\n",
    "print(len(emotions))"
   ]
  },
  {
   "cell_type": "markdown",
   "metadata": {},
   "source": [
    "### Data distribution"
   ]
  },
  {
   "cell_type": "code",
   "execution_count": null,
   "metadata": {
    "colab": {
     "autoexec": {
      "startup": false,
      "wait_interval": 0
     },
     "base_uri": "https://localhost:8080/",
     "height": 318
    },
    "colab_type": "code",
    "executionInfo": {
     "elapsed": 1004,
     "status": "ok",
     "timestamp": 1523758114724,
     "user": {
      "displayName": "Susanta Biswas",
      "photoUrl": "//lh5.googleusercontent.com/-j4zod5jytCU/AAAAAAAAAAI/AAAAAAAAAMw/oM-QES-nuuY/s50-c-k-no/photo.jpg",
      "userId": "109162984466767800710"
     },
     "user_tz": -330
    },
    "id": "Y0H--CiyIMMa",
    "outputId": "c2f413f8-8bd3-4844-a4b3-d026d51a8bdd"
   },
   "outputs": [
    {
     "ename": "",
     "evalue": "",
     "output_type": "error",
     "traceback": [
      "\u001b[1;31mRunning cells with '.conda (Python 3.11.9)' requires the ipykernel package.\n",
      "\u001b[1;31mRun the following command to install 'ipykernel' into the Python environment. \n",
      "\u001b[1;31mCommand: 'conda install -p c:\\Users\\restu\\OneDrive\\Documents\\Project\\Gade Internship\\Facial Emotion Analysis\\.conda ipykernel --update-deps --force-reinstall'"
     ]
    }
   ],
   "source": [
    "# data distribution\n",
    "emotions.hist()"
   ]
  },
  {
   "cell_type": "code",
   "execution_count": null,
   "metadata": {
    "colab": {
     "autoexec": {
      "startup": false,
      "wait_interval": 0
     },
     "base_uri": "https://localhost:8080/",
     "height": 168
    },
    "colab_type": "code",
    "executionInfo": {
     "elapsed": 934,
     "status": "ok",
     "timestamp": 1523758115858,
     "user": {
      "displayName": "Susanta Biswas",
      "photoUrl": "//lh5.googleusercontent.com/-j4zod5jytCU/AAAAAAAAAAI/AAAAAAAAAMw/oM-QES-nuuY/s50-c-k-no/photo.jpg",
      "userId": "109162984466767800710"
     },
     "user_tz": -330
    },
    "id": "AsAaH7XxIMMu",
    "outputId": "a0fa4f30-633e-4610-bc96-2ba95314fc9d"
   },
   "outputs": [
    {
     "ename": "",
     "evalue": "",
     "output_type": "error",
     "traceback": [
      "\u001b[1;31mRunning cells with '.conda (Python 3.11.9)' requires the ipykernel package.\n",
      "\u001b[1;31mRun the following command to install 'ipykernel' into the Python environment. \n",
      "\u001b[1;31mCommand: 'conda install -p c:\\Users\\restu\\OneDrive\\Documents\\Project\\Gade Internship\\Facial Emotion Analysis\\.conda ipykernel --update-deps --force-reinstall'"
     ]
    }
   ],
   "source": [
    "# distribution of pictures\n",
    "emotions[0].value_counts()"
   ]
  },
  {
   "cell_type": "markdown",
   "metadata": {},
   "source": [
    "### Prepare output labels"
   ]
  },
  {
   "cell_type": "code",
   "execution_count": null,
   "metadata": {
    "colab": {
     "autoexec": {
      "startup": false,
      "wait_interval": 0
     }
    },
    "colab_type": "code",
    "id": "JqdmzoVpIMM6"
   },
   "outputs": [
    {
     "ename": "",
     "evalue": "",
     "output_type": "error",
     "traceback": [
      "\u001b[1;31mRunning cells with '.conda (Python 3.11.9)' requires the ipykernel package.\n",
      "\u001b[1;31mRun the following command to install 'ipykernel' into the Python environment. \n",
      "\u001b[1;31mCommand: 'conda install -p c:\\Users\\restu\\OneDrive\\Documents\\Project\\Gade Internship\\Facial Emotion Analysis\\.conda ipykernel --update-deps --force-reinstall'"
     ]
    }
   ],
   "source": [
    "# prepare output labels for train, cv and test\n",
    "y_train = emotions[:images_train.shape[0]].values\n",
    "y_cv = emotions[images_train.shape[0]:images_train.shape[0] + images_cv.shape[0]].values\n",
    "y_test = emotions[images_train.shape[0] + images_cv.shape[0]: ].values"
   ]
  },
  {
   "cell_type": "code",
   "execution_count": null,
   "metadata": {
    "colab": {
     "autoexec": {
      "startup": false,
      "wait_interval": 0
     },
     "base_uri": "https://localhost:8080/",
     "height": 74
    },
    "colab_type": "code",
    "executionInfo": {
     "elapsed": 850,
     "status": "ok",
     "timestamp": 1523758118314,
     "user": {
      "displayName": "Susanta Biswas",
      "photoUrl": "//lh5.googleusercontent.com/-j4zod5jytCU/AAAAAAAAAAI/AAAAAAAAAMw/oM-QES-nuuY/s50-c-k-no/photo.jpg",
      "userId": "109162984466767800710"
     },
     "user_tz": -330
    },
    "id": "agD4lvH4IMNC",
    "outputId": "f393fa14-e593-4a00-a4e0-d9900810de42"
   },
   "outputs": [
    {
     "ename": "",
     "evalue": "",
     "output_type": "error",
     "traceback": [
      "\u001b[1;31mRunning cells with '.conda (Python 3.11.9)' requires the ipykernel package.\n",
      "\u001b[1;31mRun the following command to install 'ipykernel' into the Python environment. \n",
      "\u001b[1;31mCommand: 'conda install -p c:\\Users\\restu\\OneDrive\\Documents\\Project\\Gade Internship\\Facial Emotion Analysis\\.conda ipykernel --update-deps --force-reinstall'"
     ]
    }
   ],
   "source": [
    "print(y_train.shape)\n",
    "print(y_cv.shape)\n",
    "print(y_test.shape)"
   ]
  },
  {
   "cell_type": "code",
   "execution_count": null,
   "metadata": {
    "colab": {
     "autoexec": {
      "startup": false,
      "wait_interval": 0
     }
    },
    "colab_type": "code",
    "id": "XhwwExI0IMNO"
   },
   "outputs": [
    {
     "ename": "",
     "evalue": "",
     "output_type": "error",
     "traceback": [
      "\u001b[1;31mRunning cells with '.conda (Python 3.11.9)' requires the ipykernel package.\n",
      "\u001b[1;31mRun the following command to install 'ipykernel' into the Python environment. \n",
      "\u001b[1;31mCommand: 'conda install -p c:\\Users\\restu\\OneDrive\\Documents\\Project\\Gade Internship\\Facial Emotion Analysis\\.conda ipykernel --update-deps --force-reinstall'"
     ]
    }
   ],
   "source": [
    "# create one hot encoding\n",
    "y_train_ohe = to_categorical(y_train, num_classes=7)\n",
    "y_cv_ohe = to_categorical(y_cv, num_classes=7)\n",
    "y_test_ohe = to_categorical(y_test, num_classes=7)"
   ]
  },
  {
   "cell_type": "code",
   "execution_count": null,
   "metadata": {
    "colab": {
     "autoexec": {
      "startup": false,
      "wait_interval": 0
     },
     "base_uri": "https://localhost:8080/",
     "height": 74
    },
    "colab_type": "code",
    "executionInfo": {
     "elapsed": 808,
     "status": "ok",
     "timestamp": 1523758121858,
     "user": {
      "displayName": "Susanta Biswas",
      "photoUrl": "//lh5.googleusercontent.com/-j4zod5jytCU/AAAAAAAAAAI/AAAAAAAAAMw/oM-QES-nuuY/s50-c-k-no/photo.jpg",
      "userId": "109162984466767800710"
     },
     "user_tz": -330
    },
    "id": "9VdlfPIFIMNW",
    "outputId": "8e51dda5-5ce4-4079-9862-e005b029675f"
   },
   "outputs": [
    {
     "ename": "",
     "evalue": "",
     "output_type": "error",
     "traceback": [
      "\u001b[1;31mRunning cells with '.conda (Python 3.11.9)' requires the ipykernel package.\n",
      "\u001b[1;31mRun the following command to install 'ipykernel' into the Python environment. \n",
      "\u001b[1;31mCommand: 'conda install -p c:\\Users\\restu\\OneDrive\\Documents\\Project\\Gade Internship\\Facial Emotion Analysis\\.conda ipykernel --update-deps --force-reinstall'"
     ]
    }
   ],
   "source": [
    "print(y_train_ohe.shape)\n",
    "print(y_cv_ohe.shape)\n",
    "print(y_test_ohe.shape)"
   ]
  },
  {
   "cell_type": "markdown",
   "metadata": {},
   "source": [
    "### Sanity checking "
   ]
  },
  {
   "cell_type": "code",
   "execution_count": null,
   "metadata": {
    "colab": {
     "autoexec": {
      "startup": false,
      "wait_interval": 0
     }
    },
    "colab_type": "code",
    "id": "wJiq1W6ASFJY"
   },
   "outputs": [
    {
     "ename": "",
     "evalue": "",
     "output_type": "error",
     "traceback": [
      "\u001b[1;31mRunning cells with '.conda (Python 3.11.9)' requires the ipykernel package.\n",
      "\u001b[1;31mRun the following command to install 'ipykernel' into the Python environment. \n",
      "\u001b[1;31mCommand: 'conda install -p c:\\Users\\restu\\OneDrive\\Documents\\Project\\Gade Internship\\Facial Emotion Analysis\\.conda ipykernel --update-deps --force-reinstall'"
     ]
    }
   ],
   "source": [
    "# for displaying an image from dataset\n",
    "def show(img):\n",
    "    # resize the image\n",
    "    show_image = img.reshape(48,48)\n",
    "    # show the image\n",
    "    plt.imshow(show_image, cmap='gray')"
   ]
  },
  {
   "cell_type": "code",
   "execution_count": null,
   "metadata": {
    "colab": {
     "autoexec": {
      "startup": false,
      "wait_interval": 0
     },
     "base_uri": "https://localhost:8080/",
     "height": 286
    },
    "colab_type": "code",
    "executionInfo": {
     "elapsed": 1072,
     "status": "ok",
     "timestamp": 1523758119598,
     "user": {
      "displayName": "Susanta Biswas",
      "photoUrl": "//lh5.googleusercontent.com/-j4zod5jytCU/AAAAAAAAAAI/AAAAAAAAAMw/oM-QES-nuuY/s50-c-k-no/photo.jpg",
      "userId": "109162984466767800710"
     },
     "user_tz": -330
    },
    "id": "4xvt_RdnSHnG",
    "outputId": "a87c40dd-7404-4f09-855e-0837275fcd0a"
   },
   "outputs": [
    {
     "ename": "",
     "evalue": "",
     "output_type": "error",
     "traceback": [
      "\u001b[1;31mRunning cells with '.conda (Python 3.11.9)' requires the ipykernel package.\n",
      "\u001b[1;31mRun the following command to install 'ipykernel' into the Python environment. \n",
      "\u001b[1;31mCommand: 'conda install -p c:\\Users\\restu\\OneDrive\\Documents\\Project\\Gade Internship\\Facial Emotion Analysis\\.conda ipykernel --update-deps --force-reinstall'"
     ]
    }
   ],
   "source": [
    "# verify the image with its label\n",
    "index = 0\n",
    "# training image\n",
    "show(images_train[index])\n",
    "print('Emotion:' + str(y_train[index]))"
   ]
  },
  {
   "cell_type": "code",
   "execution_count": null,
   "metadata": {},
   "outputs": [
    {
     "ename": "",
     "evalue": "",
     "output_type": "error",
     "traceback": [
      "\u001b[1;31mRunning cells with '.conda (Python 3.11.9)' requires the ipykernel package.\n",
      "\u001b[1;31mRun the following command to install 'ipykernel' into the Python environment. \n",
      "\u001b[1;31mCommand: 'conda install -p c:\\Users\\restu\\OneDrive\\Documents\\Project\\Gade Internship\\Facial Emotion Analysis\\.conda ipykernel --update-deps --force-reinstall'"
     ]
    }
   ],
   "source": [
    "# cv image\n",
    "show(images_cv[index])\n",
    "print('Emotion:' + str(y_cv[index]))"
   ]
  },
  {
   "cell_type": "code",
   "execution_count": null,
   "metadata": {},
   "outputs": [
    {
     "ename": "",
     "evalue": "",
     "output_type": "error",
     "traceback": [
      "\u001b[1;31mRunning cells with '.conda (Python 3.11.9)' requires the ipykernel package.\n",
      "\u001b[1;31mRun the following command to install 'ipykernel' into the Python environment. \n",
      "\u001b[1;31mCommand: 'conda install -p c:\\Users\\restu\\OneDrive\\Documents\\Project\\Gade Internship\\Facial Emotion Analysis\\.conda ipykernel --update-deps --force-reinstall'"
     ]
    }
   ],
   "source": [
    "# test image\n",
    "show(images_test[index])\n",
    "print('Emotion:' + str(y_test[index]))"
   ]
  },
  {
   "cell_type": "markdown",
   "metadata": {
    "colab_type": "text",
    "id": "qa52XPxwIMNc"
   },
   "source": [
    "# <u>Preprocessing"
   ]
  },
  {
   "cell_type": "code",
   "execution_count": null,
   "metadata": {
    "colab": {
     "autoexec": {
      "startup": false,
      "wait_interval": 0
     }
    },
    "colab_type": "code",
    "id": "DzJCVP4JIMNy"
   },
   "outputs": [
    {
     "ename": "",
     "evalue": "",
     "output_type": "error",
     "traceback": [
      "\u001b[1;31mRunning cells with '.conda (Python 3.11.9)' requires the ipykernel package.\n",
      "\u001b[1;31mRun the following command to install 'ipykernel' into the Python environment. \n",
      "\u001b[1;31mCommand: 'conda install -p c:\\Users\\restu\\OneDrive\\Documents\\Project\\Gade Internship\\Facial Emotion Analysis\\.conda ipykernel --update-deps --force-reinstall'"
     ]
    }
   ],
   "source": [
    "# reshape the images for keras model\n",
    "images_train = np.expand_dims(images_train, 3)\n",
    "images_cv = np.expand_dims(images_cv, 3)\n",
    "images_test = np.expand_dims(images_test, 3)"
   ]
  },
  {
   "cell_type": "code",
   "execution_count": null,
   "metadata": {
    "colab": {
     "autoexec": {
      "startup": false,
      "wait_interval": 0
     },
     "base_uri": "https://localhost:8080/",
     "height": 74
    },
    "colab_type": "code",
    "executionInfo": {
     "elapsed": 806,
     "status": "ok",
     "timestamp": 1523758126454,
     "user": {
      "displayName": "Susanta Biswas",
      "photoUrl": "//lh5.googleusercontent.com/-j4zod5jytCU/AAAAAAAAAAI/AAAAAAAAAMw/oM-QES-nuuY/s50-c-k-no/photo.jpg",
      "userId": "109162984466767800710"
     },
     "user_tz": -330
    },
    "id": "a0cXByBjIMOG",
    "outputId": "a469bf7c-1453-47c6-8760-d5100a090866"
   },
   "outputs": [
    {
     "ename": "",
     "evalue": "",
     "output_type": "error",
     "traceback": [
      "\u001b[1;31mRunning cells with '.conda (Python 3.11.9)' requires the ipykernel package.\n",
      "\u001b[1;31mRun the following command to install 'ipykernel' into the Python environment. \n",
      "\u001b[1;31mCommand: 'conda install -p c:\\Users\\restu\\OneDrive\\Documents\\Project\\Gade Internship\\Facial Emotion Analysis\\.conda ipykernel --update-deps --force-reinstall'"
     ]
    }
   ],
   "source": [
    "print(images_train.shape)\n",
    "print(images_cv.shape)\n",
    "print(images_test.shape)"
   ]
  },
  {
   "cell_type": "markdown",
   "metadata": {
    "colab_type": "text",
    "id": "g6qHloBvIMOU"
   },
   "source": [
    "# <u>Model Architecture"
   ]
  },
  {
   "cell_type": "code",
   "execution_count": null,
   "metadata": {
    "colab": {
     "autoexec": {
      "startup": false,
      "wait_interval": 0
     }
    },
    "colab_type": "code",
    "id": "ju4D0z0QagkW"
   },
   "outputs": [
    {
     "ename": "",
     "evalue": "",
     "output_type": "error",
     "traceback": [
      "\u001b[1;31mRunning cells with '.conda (Python 3.11.9)' requires the ipykernel package.\n",
      "\u001b[1;31mRun the following command to install 'ipykernel' into the Python environment. \n",
      "\u001b[1;31mCommand: 'conda install -p c:\\Users\\restu\\OneDrive\\Documents\\Project\\Gade Internship\\Facial Emotion Analysis\\.conda ipykernel --update-deps --force-reinstall'"
     ]
    }
   ],
   "source": [
    "from keras.utils import plot_model\n",
    "import pydot\n",
    "plot_model(model, to_file='drive/Colab Notebooks/model.png', show_shapes=True)"
   ]
  },
  {
   "cell_type": "code",
   "execution_count": null,
   "metadata": {
    "colab": {
     "autoexec": {
      "startup": false,
      "wait_interval": 0
     }
    },
    "colab_type": "code",
    "id": "232MdLx7IMOg"
   },
   "outputs": [
    {
     "ename": "",
     "evalue": "",
     "output_type": "error",
     "traceback": [
      "\u001b[1;31mRunning cells with '.conda (Python 3.11.9)' requires the ipykernel package.\n",
      "\u001b[1;31mRun the following command to install 'ipykernel' into the Python environment. \n",
      "\u001b[1;31mCommand: 'conda install -p c:\\Users\\restu\\OneDrive\\Documents\\Project\\Gade Internship\\Facial Emotion Analysis\\.conda ipykernel --update-deps --force-reinstall'"
     ]
    }
   ],
   "source": [
    "# save the model weights after each epoch if the validation loss decreases\n",
    "checkpoint = ModelCheckpoint(filepath='models/weights_best.hdf5', verbose=1, save_best_only=True)"
   ]
  },
  {
   "cell_type": "code",
   "execution_count": null,
   "metadata": {
    "colab": {
     "autoexec": {
      "startup": false,
      "wait_interval": 0
     }
    },
    "colab_type": "code",
    "id": "8XnFFPBlioEU"
   },
   "outputs": [
    {
     "ename": "",
     "evalue": "",
     "output_type": "error",
     "traceback": [
      "\u001b[1;31mRunning cells with '.conda (Python 3.11.9)' requires the ipykernel package.\n",
      "\u001b[1;31mRun the following command to install 'ipykernel' into the Python environment. \n",
      "\u001b[1;31mCommand: 'conda install -p c:\\Users\\restu\\OneDrive\\Documents\\Project\\Gade Internship\\Facial Emotion Analysis\\.conda ipykernel --update-deps --force-reinstall'"
     ]
    }
   ],
   "source": [
    "# load already saved model if needed\n",
    "if os.path.exists('models/model.h5'):\n",
    "    model = load_model('models/model.h5')\n",
    "else:\n",
    "    print('No model to load !')"
   ]
  },
  {
   "cell_type": "markdown",
   "metadata": {},
   "source": [
    "### Make the model"
   ]
  },
  {
   "cell_type": "code",
   "execution_count": null,
   "metadata": {
    "colab": {
     "autoexec": {
      "startup": false,
      "wait_interval": 0
     }
    },
    "colab_type": "code",
    "id": "x-L2shC6IMOw"
   },
   "outputs": [
    {
     "ename": "",
     "evalue": "",
     "output_type": "error",
     "traceback": [
      "\u001b[1;31mRunning cells with '.conda (Python 3.11.9)' requires the ipykernel package.\n",
      "\u001b[1;31mRun the following command to install 'ipykernel' into the Python environment. \n",
      "\u001b[1;31mCommand: 'conda install -p c:\\Users\\restu\\OneDrive\\Documents\\Project\\Gade Internship\\Facial Emotion Analysis\\.conda ipykernel --update-deps --force-reinstall'"
     ]
    }
   ],
   "source": [
    "model = Sequential()\n",
    "\n",
    "# 1st stage\n",
    "model.add(Conv2D(32, 3, input_shape=(48, 48, 1), padding='same', \n",
    "                 activation='relu'))\n",
    "model.add(BatchNormalization())\n",
    "model.add(Conv2D(32, 3, padding='same', \n",
    "                 activation='relu'))\n",
    "model.add(BatchNormalization())\n",
    "model.add(MaxPool2D(pool_size=(2, 2), strides=2))\n",
    "\n",
    "# 2nd stage\n",
    "model.add(Conv2D(64, 3, padding='same', \n",
    "                 activation='relu'))\n",
    "model.add(BatchNormalization())\n",
    "model.add(Conv2D(64, 3, padding='same', \n",
    "                 activation='relu'))\n",
    "model.add(BatchNormalization())\n",
    "model.add(MaxPool2D(pool_size=(2, 2), strides=2))\n",
    "model.add(Dropout(0.25))\n",
    "\n",
    "# 3rd stage\n",
    "model.add(Conv2D(128, 3, padding='same', \n",
    "                 activation='relu'))\n",
    "model.add(BatchNormalization())\n",
    "model.add(Conv2D(128, 3, padding='same', \n",
    "                 activation='relu'))\n",
    "model.add(BatchNormalization())\n",
    "model.add(MaxPool2D(pool_size=(2, 2), strides=2))\n",
    "model.add(Dropout(0.25))\n",
    "\n",
    "# FC layers\n",
    "model.add(Flatten())\n",
    "model.add(Dense(256))\n",
    "model.add(Activation(\"relu\"))\n",
    "model.add(BatchNormalization())\n",
    "model.add(Dropout(0.5))\n",
    "\n",
    "model.add(Dense(256))\n",
    "model.add(Activation(\"relu\"))\n",
    "model.add(BatchNormalization())\n",
    "model.add(Dropout(0.5))\n",
    "\n",
    "model.add(Dense(256))\n",
    "model.add(Activation(\"relu\"))\n",
    "model.add(BatchNormalization())\n",
    "model.add(Dropout(0.5))\n",
    "\n",
    "model.add(Dense(7))\n",
    "model.add(Activation('softmax'))"
   ]
  },
  {
   "cell_type": "code",
   "execution_count": null,
   "metadata": {
    "colab": {
     "autoexec": {
      "startup": false,
      "wait_interval": 0
     },
     "base_uri": "https://localhost:8080/",
     "height": 1357
    },
    "colab_type": "code",
    "executionInfo": {
     "elapsed": 870,
     "status": "ok",
     "timestamp": 1523762458250,
     "user": {
      "displayName": "Susanta Biswas",
      "photoUrl": "//lh5.googleusercontent.com/-j4zod5jytCU/AAAAAAAAAAI/AAAAAAAAAMw/oM-QES-nuuY/s50-c-k-no/photo.jpg",
      "userId": "109162984466767800710"
     },
     "user_tz": -330
    },
    "id": "ZkcNEwLoIMO4",
    "outputId": "fe0f2e9e-f6ba-45c6-9c16-065a17096ecf"
   },
   "outputs": [
    {
     "ename": "",
     "evalue": "",
     "output_type": "error",
     "traceback": [
      "\u001b[1;31mRunning cells with '.conda (Python 3.11.9)' requires the ipykernel package.\n",
      "\u001b[1;31mRun the following command to install 'ipykernel' into the Python environment. \n",
      "\u001b[1;31mCommand: 'conda install -p c:\\Users\\restu\\OneDrive\\Documents\\Project\\Gade Internship\\Facial Emotion Analysis\\.conda ipykernel --update-deps --force-reinstall'"
     ]
    }
   ],
   "source": [
    "model.summary()"
   ]
  },
  {
   "cell_type": "code",
   "execution_count": null,
   "metadata": {
    "colab": {
     "autoexec": {
      "startup": false,
      "wait_interval": 0
     }
    },
    "colab_type": "code",
    "id": "dNi-k49DIMPE"
   },
   "outputs": [
    {
     "ename": "",
     "evalue": "",
     "output_type": "error",
     "traceback": [
      "\u001b[1;31mRunning cells with '.conda (Python 3.11.9)' requires the ipykernel package.\n",
      "\u001b[1;31mRun the following command to install 'ipykernel' into the Python environment. \n",
      "\u001b[1;31mCommand: 'conda install -p c:\\Users\\restu\\OneDrive\\Documents\\Project\\Gade Internship\\Facial Emotion Analysis\\.conda ipykernel --update-deps --force-reinstall'"
     ]
    }
   ],
   "source": [
    "# compile the model\n",
    "model.compile(loss='categorical_crossentropy', optimizer='adam', metrics=['accuracy'])"
   ]
  },
  {
   "cell_type": "markdown",
   "metadata": {},
   "source": [
    "### NOTE: The model was trained for 50 epochs but was done not in one go, so in the fit function there is only 5 written as it was the last time the model was run"
   ]
  },
  {
   "cell_type": "code",
   "execution_count": null,
   "metadata": {
    "colab": {
     "autoexec": {
      "startup": false,
      "wait_interval": 0
     },
     "base_uri": "https://localhost:8080/",
     "height": 433
    },
    "colab_type": "code",
    "executionInfo": {
     "elapsed": 157062,
     "status": "ok",
     "timestamp": 1523765433954,
     "user": {
      "displayName": "Susanta Biswas",
      "photoUrl": "//lh5.googleusercontent.com/-j4zod5jytCU/AAAAAAAAAAI/AAAAAAAAAMw/oM-QES-nuuY/s50-c-k-no/photo.jpg",
      "userId": "109162984466767800710"
     },
     "user_tz": -330
    },
    "id": "LAD095X6IMPI",
    "outputId": "54b256ed-b52c-435a-8224-69dbefbf449a"
   },
   "outputs": [
    {
     "ename": "",
     "evalue": "",
     "output_type": "error",
     "traceback": [
      "\u001b[1;31mRunning cells with '.conda (Python 3.11.9)' requires the ipykernel package.\n",
      "\u001b[1;31mRun the following command to install 'ipykernel' into the Python environment. \n",
      "\u001b[1;31mCommand: 'conda install -p c:\\Users\\restu\\OneDrive\\Documents\\Project\\Gade Internship\\Facial Emotion Analysis\\.conda ipykernel --update-deps --force-reinstall'"
     ]
    }
   ],
   "source": [
    "# start training the model\n",
    "hist = model.fit(images_train, y_train_ohe, batch_size=128, epochs=5, verbose=1,\n",
    "          validation_data=(images_cv, y_cv_ohe), shuffle=True, callbacks=[checkpoint])\n",
    "\n",
    "# save the current model and weights\n",
    "model.save_weights('models/weights.h5')\n",
    "model.save('models/model.h5')"
   ]
  },
  {
   "cell_type": "markdown",
   "metadata": {},
   "source": [
    "## <u>Model Evaluation\n",
    "The model achieves 63% accuracy on the unseen test set."
   ]
  },
  {
   "cell_type": "code",
   "execution_count": null,
   "metadata": {
    "colab": {
     "autoexec": {
      "startup": false,
      "wait_interval": 0
     },
     "base_uri": "https://localhost:8080/",
     "height": 111
    },
    "colab_type": "code",
    "executionInfo": {
     "elapsed": 2598,
     "status": "ok",
     "timestamp": 1523765443296,
     "user": {
      "displayName": "Susanta Biswas",
      "photoUrl": "//lh5.googleusercontent.com/-j4zod5jytCU/AAAAAAAAAAI/AAAAAAAAAMw/oM-QES-nuuY/s50-c-k-no/photo.jpg",
      "userId": "109162984466767800710"
     },
     "user_tz": -330
    },
    "id": "5YL3RAafVKgy",
    "outputId": "fc3828e6-29ff-4c09-9a70-47f124aa285e"
   },
   "outputs": [
    {
     "ename": "",
     "evalue": "",
     "output_type": "error",
     "traceback": [
      "\u001b[1;31mRunning cells with '.conda (Python 3.11.9)' requires the ipykernel package.\n",
      "\u001b[1;31mRun the following command to install 'ipykernel' into the Python environment. \n",
      "\u001b[1;31mCommand: 'conda install -p c:\\Users\\restu\\OneDrive\\Documents\\Project\\Gade Internship\\Facial Emotion Analysis\\.conda ipykernel --update-deps --force-reinstall'"
     ]
    }
   ],
   "source": [
    "# training loss and accuracy\n",
    "train_acc = hist.history['acc']\n",
    "val_acc = hist.history['val_acc']\n",
    "print('Training Accuracy: ', train_acc[-1])\n",
    "print('Validation Accuracy: ', val_acc[-1])\n",
    "\n",
    "# test loss and accuracy\n",
    "score, acc = model.evaluate(images_test, y_test_ohe,\n",
    "                            batch_size=32)\n",
    "print('Test score:', score)\n",
    "print('Test accuracy:', acc)"
   ]
  },
  {
   "cell_type": "markdown",
   "metadata": {},
   "source": [
    "### Plot the training loss and accuracy graph"
   ]
  },
  {
   "cell_type": "code",
   "execution_count": null,
   "metadata": {
    "colab": {
     "autoexec": {
      "startup": false,
      "wait_interval": 0
     },
     "base_uri": "https://localhost:8080/",
     "height": 356
    },
    "colab_type": "code",
    "executionInfo": {
     "elapsed": 1662,
     "status": "ok",
     "timestamp": 1523765129758,
     "user": {
      "displayName": "Susanta Biswas",
      "photoUrl": "//lh5.googleusercontent.com/-j4zod5jytCU/AAAAAAAAAAI/AAAAAAAAAMw/oM-QES-nuuY/s50-c-k-no/photo.jpg",
      "userId": "109162984466767800710"
     },
     "user_tz": -330
    },
    "id": "yvqVOSzXOXGc",
    "outputId": "d5cc878e-4fd2-4ab3-f134-ee92c49749ce"
   },
   "outputs": [
    {
     "ename": "",
     "evalue": "",
     "output_type": "error",
     "traceback": [
      "\u001b[1;31mRunning cells with '.conda (Python 3.11.9)' requires the ipykernel package.\n",
      "\u001b[1;31mRun the following command to install 'ipykernel' into the Python environment. \n",
      "\u001b[1;31mCommand: 'conda install -p c:\\Users\\restu\\OneDrive\\Documents\\Project\\Gade Internship\\Facial Emotion Analysis\\.conda ipykernel --update-deps --force-reinstall'"
     ]
    }
   ],
   "source": [
    "plt.figure(figsize=(16,5))\n",
    "# training loss graph\n",
    "plt.subplot(1, 2, 1)\n",
    "plt.suptitle('Optimizer : Adam', fontsize=10)\n",
    "plt.ylabel('Loss', fontsize=16)\n",
    "plt.plot(hist.history['loss'], color='b', label='Training Loss')\n",
    "plt.plot(hist.history['val_loss'], color='r', label='Validation Loss')\n",
    "plt.legend(loc='upper right')\n",
    "\n",
    "# training accuracy graph\n",
    "plt.subplot(1, 2, 2)\n",
    "plt.ylabel('Accuracy', fontsize=16)\n",
    "plt.plot(hist.history['acc'], color='b', label='Training Accuracy')\n",
    "plt.plot(hist.history['val_acc'], color='r', label='Validation Accuracy')\n",
    "plt.legend(loc='lower right')\n",
    "plt.show()\n",
    "\n"
   ]
  },
  {
   "cell_type": "markdown",
   "metadata": {},
   "source": [
    "## Let us do prediction on some faces"
   ]
  },
  {
   "cell_type": "code",
   "execution_count": null,
   "metadata": {
    "colab": {
     "autoexec": {
      "startup": false,
      "wait_interval": 0
     }
    },
    "colab_type": "code",
    "id": "y0MNiVYkVii6"
   },
   "outputs": [
    {
     "ename": "",
     "evalue": "",
     "output_type": "error",
     "traceback": [
      "\u001b[1;31mRunning cells with '.conda (Python 3.11.9)' requires the ipykernel package.\n",
      "\u001b[1;31mRun the following command to install 'ipykernel' into the Python environment. \n",
      "\u001b[1;31mCommand: 'conda install -p c:\\Users\\restu\\OneDrive\\Documents\\Project\\Gade Internship\\Facial Emotion Analysis\\.conda ipykernel --update-deps --force-reinstall'"
     ]
    }
   ],
   "source": [
    "# read image \n",
    "images = []\n",
    "for filename in os.listdir('test_images\\\\'):\n",
    "    path = os.path.join('test_images\\\\', filename)\n",
    "    images.append(cv2.imread(path, -1))    "
   ]
  },
  {
   "cell_type": "code",
   "execution_count": null,
   "metadata": {},
   "outputs": [
    {
     "ename": "",
     "evalue": "",
     "output_type": "error",
     "traceback": [
      "\u001b[1;31mRunning cells with '.conda (Python 3.11.9)' requires the ipykernel package.\n",
      "\u001b[1;31mRun the following command to install 'ipykernel' into the Python environment. \n",
      "\u001b[1;31mCommand: 'conda install -p c:\\Users\\restu\\OneDrive\\Documents\\Project\\Gade Internship\\Facial Emotion Analysis\\.conda ipykernel --update-deps --force-reinstall'"
     ]
    }
   ],
   "source": [
    "# do prediction for the images\n",
    "predictions = []\n",
    "for img in images:\n",
    "    # change to greyscale\n",
    "    curr_img = cv2.cvtColor(img, cv2.COLOR_BGR2GRAY)\n",
    "    \n",
    "    curr_img = cv2.resize(curr_img, (48,48))\n",
    "    curr_img = np.reshape(curr_img, (1, 48, 48, 1))\n",
    "    predictions.append(np.argmax(model.predict(curr_img)))"
   ]
  },
  {
   "cell_type": "code",
   "execution_count": null,
   "metadata": {},
   "outputs": [
    {
     "ename": "",
     "evalue": "",
     "output_type": "error",
     "traceback": [
      "\u001b[1;31mRunning cells with '.conda (Python 3.11.9)' requires the ipykernel package.\n",
      "\u001b[1;31mRun the following command to install 'ipykernel' into the Python environment. \n",
      "\u001b[1;31mCommand: 'conda install -p c:\\Users\\restu\\OneDrive\\Documents\\Project\\Gade Internship\\Facial Emotion Analysis\\.conda ipykernel --update-deps --force-reinstall'"
     ]
    }
   ],
   "source": [
    "# list of given emotions\n",
    "EMOTIONS = ['Angry', 'Disgusted', 'Fearful',\n",
    "            'Happy', 'Sad', 'Surprised', 'Neutral']"
   ]
  },
  {
   "cell_type": "code",
   "execution_count": null,
   "metadata": {},
   "outputs": [
    {
     "ename": "",
     "evalue": "",
     "output_type": "error",
     "traceback": [
      "\u001b[1;31mRunning cells with '.conda (Python 3.11.9)' requires the ipykernel package.\n",
      "\u001b[1;31mRun the following command to install 'ipykernel' into the Python environment. \n",
      "\u001b[1;31mCommand: 'conda install -p c:\\Users\\restu\\OneDrive\\Documents\\Project\\Gade Internship\\Facial Emotion Analysis\\.conda ipykernel --update-deps --force-reinstall'"
     ]
    }
   ],
   "source": [
    "# bgr to rgb\n",
    "for i in range(5):\n",
    "    images[i] = cv2.cvtColor(images[i], cv2.COLOR_BGR2RGB)"
   ]
  },
  {
   "cell_type": "code",
   "execution_count": null,
   "metadata": {},
   "outputs": [
    {
     "ename": "",
     "evalue": "",
     "output_type": "error",
     "traceback": [
      "\u001b[1;31mRunning cells with '.conda (Python 3.11.9)' requires the ipykernel package.\n",
      "\u001b[1;31mRun the following command to install 'ipykernel' into the Python environment. \n",
      "\u001b[1;31mCommand: 'conda install -p c:\\Users\\restu\\OneDrive\\Documents\\Project\\Gade Internship\\Facial Emotion Analysis\\.conda ipykernel --update-deps --force-reinstall'"
     ]
    }
   ],
   "source": [
    "plt.imshow(images[0])\n",
    "print('Predicted Emotion: ' + str(EMOTIONS[predictions[0]]))"
   ]
  },
  {
   "cell_type": "code",
   "execution_count": null,
   "metadata": {},
   "outputs": [
    {
     "ename": "",
     "evalue": "",
     "output_type": "error",
     "traceback": [
      "\u001b[1;31mRunning cells with '.conda (Python 3.11.9)' requires the ipykernel package.\n",
      "\u001b[1;31mRun the following command to install 'ipykernel' into the Python environment. \n",
      "\u001b[1;31mCommand: 'conda install -p c:\\Users\\restu\\OneDrive\\Documents\\Project\\Gade Internship\\Facial Emotion Analysis\\.conda ipykernel --update-deps --force-reinstall'"
     ]
    }
   ],
   "source": [
    "plt.imshow(images[1])\n",
    "print('Predicted Emotion: ' + str(EMOTIONS[predictions[1]]))"
   ]
  },
  {
   "cell_type": "code",
   "execution_count": null,
   "metadata": {},
   "outputs": [
    {
     "ename": "",
     "evalue": "",
     "output_type": "error",
     "traceback": [
      "\u001b[1;31mRunning cells with '.conda (Python 3.11.9)' requires the ipykernel package.\n",
      "\u001b[1;31mRun the following command to install 'ipykernel' into the Python environment. \n",
      "\u001b[1;31mCommand: 'conda install -p c:\\Users\\restu\\OneDrive\\Documents\\Project\\Gade Internship\\Facial Emotion Analysis\\.conda ipykernel --update-deps --force-reinstall'"
     ]
    }
   ],
   "source": [
    "plt.imshow(images[2])\n",
    "print('Predicted Emotion: ' + str(EMOTIONS[predictions[2]]))"
   ]
  },
  {
   "cell_type": "code",
   "execution_count": null,
   "metadata": {},
   "outputs": [
    {
     "ename": "",
     "evalue": "",
     "output_type": "error",
     "traceback": [
      "\u001b[1;31mRunning cells with '.conda (Python 3.11.9)' requires the ipykernel package.\n",
      "\u001b[1;31mRun the following command to install 'ipykernel' into the Python environment. \n",
      "\u001b[1;31mCommand: 'conda install -p c:\\Users\\restu\\OneDrive\\Documents\\Project\\Gade Internship\\Facial Emotion Analysis\\.conda ipykernel --update-deps --force-reinstall'"
     ]
    }
   ],
   "source": [
    "plt.imshow(images[3])\n",
    "print('Predicted Emotion: ' + str(EMOTIONS[predictions[3]]))"
   ]
  },
  {
   "cell_type": "code",
   "execution_count": null,
   "metadata": {},
   "outputs": [
    {
     "ename": "",
     "evalue": "",
     "output_type": "error",
     "traceback": [
      "\u001b[1;31mRunning cells with '.conda (Python 3.11.9)' requires the ipykernel package.\n",
      "\u001b[1;31mRun the following command to install 'ipykernel' into the Python environment. \n",
      "\u001b[1;31mCommand: 'conda install -p c:\\Users\\restu\\OneDrive\\Documents\\Project\\Gade Internship\\Facial Emotion Analysis\\.conda ipykernel --update-deps --force-reinstall'"
     ]
    }
   ],
   "source": [
    "plt.imshow(images[4])\n",
    "print('Predicted Emotion: ' + str(EMOTIONS[predictions[4]]))"
   ]
  },
  {
   "cell_type": "code",
   "execution_count": null,
   "metadata": {},
   "outputs": [
    {
     "ename": "",
     "evalue": "",
     "output_type": "error",
     "traceback": [
      "\u001b[1;31mRunning cells with '.conda (Python 3.11.9)' requires the ipykernel package.\n",
      "\u001b[1;31mRun the following command to install 'ipykernel' into the Python environment. \n",
      "\u001b[1;31mCommand: 'conda install -p c:\\Users\\restu\\OneDrive\\Documents\\Project\\Gade Internship\\Facial Emotion Analysis\\.conda ipykernel --update-deps --force-reinstall'"
     ]
    }
   ],
   "source": []
  }
 ],
 "metadata": {
  "accelerator": "GPU",
  "colab": {
   "collapsed_sections": [],
   "default_view": {},
   "name": "facial Emotions.ipynb",
   "provenance": [],
   "version": "0.3.2",
   "views": {}
  },
  "kernelspec": {
   "display_name": "Python 3",
   "language": "python",
   "name": "python3"
  },
  "language_info": {
   "codemirror_mode": {
    "name": "ipython",
    "version": 3
   },
   "file_extension": ".py",
   "mimetype": "text/x-python",
   "name": "python",
   "nbconvert_exporter": "python",
   "pygments_lexer": "ipython3",
   "version": "3.12.2"
  }
 },
 "nbformat": 4,
 "nbformat_minor": 1
}
